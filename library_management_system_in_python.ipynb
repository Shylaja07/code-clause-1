{
  "nbformat": 4,
  "nbformat_minor": 0,
  "metadata": {
    "colab": {
      "provenance": [],
      "authorship_tag": "ABX9TyMis8EcLZnnZg33epJzmGoR",
      "include_colab_link": true
    },
    "kernelspec": {
      "name": "python3",
      "display_name": "Python 3"
    },
    "language_info": {
      "name": "python"
    }
  },
  "cells": [
    {
      "cell_type": "markdown",
      "metadata": {
        "id": "view-in-github",
        "colab_type": "text"
      },
      "source": [
        "<a href=\"https://colab.research.google.com/github/Shylaja07/code-clause-1/blob/main/library_management_system_in_python.ipynb\" target=\"_parent\"><img src=\"https://colab.research.google.com/assets/colab-badge.svg\" alt=\"Open In Colab\"/></a>"
      ]
    },
    {
      "cell_type": "code",
      "source": [
        "class Book:\n",
        "    def __init__(self, title, author, copies):\n",
        "        self.title = title\n",
        "        self.author = author\n",
        "        self.copies = copies\n",
        "\n",
        "    def display_info(self):\n",
        "        print(f\"Title: {self.title}\")\n",
        "        print(f\"Author: {self.author}\")\n",
        "        print(f\"Copies available: {self.copies}\")\n",
        "        print(\"-\" * 30)\n",
        "\n",
        "\n",
        "class Library:\n",
        "    def __init__(self):\n",
        "        self.books = []\n",
        "\n",
        "    def add_book(self, book):\n",
        "        self.books.append(book)\n",
        "\n",
        "    def display_books(self):\n",
        "        for book in self.books:\n",
        "            book.display_info()\n",
        "\n",
        "    def find_book(self, title):\n",
        "        for book in self.books:\n",
        "            if book.title.lower() == title.lower():\n",
        "                return book\n",
        "        return None\n",
        "\n",
        "    def borrow_book(self, title):\n",
        "        book = self.find_book(title)\n",
        "        if book and book.copies > 0:\n",
        "            book.copies -= 1\n",
        "            print(f\"Book '{book.title}' borrowed successfully.\")\n",
        "        elif book and book.copies == 0:\n",
        "            print(f\"Sorry, '{book.title}' is currently unavailable.\")\n",
        "        else:\n",
        "            print(f\"Book '{title}' not found in the library.\")\n",
        "\n",
        "    def return_book(self, title):\n",
        "        book = self.find_book(title)\n",
        "        if book:\n",
        "            book.copies += 1\n",
        "            print(f\"Book '{book.title}' returned successfully.\")\n",
        "        else:\n",
        "            print(f\"Book '{title}' not found in the library.\")\n",
        "\n",
        "\n",
        "def main():\n",
        "    library = Library()\n",
        "\n",
        "    book1 = Book(\"The Great Gatsby\", \"F. Scott Fitzgerald\", 5)\n",
        "    book2 = Book(\"To Kill a Mockingbird\", \"Harper Lee\", 3)\n",
        "    book3 = Book(\"1984\", \"George Orwell\", 8)\n",
        "\n",
        "    library.add_book(book1)\n",
        "    library.add_book(book2)\n",
        "    library.add_book(book3)\n",
        "\n",
        "    while True:\n",
        "        print(\"\\nLibrary Management System Menu:\")\n",
        "        print(\"1. Display Books\")\n",
        "        print(\"2. Borrow Book\")\n",
        "        print(\"3. Return Book\")\n",
        "        print(\"4. Exit\")\n",
        "\n",
        "        choice = input(\"Enter your choice (1-4): \")\n",
        "\n",
        "        if choice == \"1\":\n",
        "            library.display_books()\n",
        "        elif choice == \"2\":\n",
        "            title = input(\"Enter the title of the book you want to borrow: \")\n",
        "            library.borrow_book(title)\n",
        "        elif choice == \"3\":\n",
        "            title = input(\"Enter the title of the book you want to return: \")\n",
        "            library.return_book(title)\n",
        "        elif choice == \"4\":\n",
        "            print(\"Exiting the Library Management System. Goodbye!\")\n",
        "            break\n",
        "        else:\n",
        "            print(\"Invalid choice. Please enter a number between 1 and 4.\")\n",
        "\n",
        "\n"
      ],
      "metadata": {
        "id": "11p4QIaq0Sq7"
      },
      "execution_count": null,
      "outputs": []
    }
  ]
}