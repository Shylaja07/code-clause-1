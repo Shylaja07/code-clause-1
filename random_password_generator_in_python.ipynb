{
  "nbformat": 4,
  "nbformat_minor": 0,
  "metadata": {
    "colab": {
      "provenance": [],
      "authorship_tag": "ABX9TyMOlIDLkbmFcp2niRPCPpkP",
      "include_colab_link": true
    },
    "kernelspec": {
      "name": "python3",
      "display_name": "Python 3"
    },
    "language_info": {
      "name": "python"
    }
  },
  "cells": [
    {
      "cell_type": "markdown",
      "metadata": {
        "id": "view-in-github",
        "colab_type": "text"
      },
      "source": [
        "<a href=\"https://colab.research.google.com/github/Shylaja07/code-clause-1/blob/main/random_password_generator_in_python.ipynb\" target=\"_parent\"><img src=\"https://colab.research.google.com/assets/colab-badge.svg\" alt=\"Open In Colab\"/></a>"
      ]
    },
    {
      "cell_type": "code",
      "execution_count": null,
      "metadata": {
        "colab": {
          "base_uri": "https://localhost:8080/"
        },
        "id": "mqZ_VI6S09zK",
        "outputId": "1fa44e20-c547-4d44-f13f-ce570de878a7"
      },
      "outputs": [
        {
          "output_type": "stream",
          "name": "stdout",
          "text": [
            "Random Password: 7G^L.*LP&zGsznMF\n"
          ]
        }
      ],
      "source": [
        "import secrets\n",
        "import string\n",
        "\n",
        "def generate_password(length=12):\n",
        "    # Define character sets for the password\n",
        "    characters = string.ascii_letters + string.digits + string.punctuation\n",
        "\n",
        "    # Use secrets module to generate a secure random password\n",
        "    password = ''.join(secrets.choice(characters) for _ in range(length))\n",
        "\n",
        "    return password\n",
        "\n",
        "# Example: Generate a random password of length 16\n",
        "random_password = generate_password(16)\n",
        "print(\"Random Password:\", random_password)\n"
      ]
    }
  ]
}